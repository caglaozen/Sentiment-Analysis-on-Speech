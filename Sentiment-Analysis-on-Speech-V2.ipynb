{
 "cells": [
  {
   "cell_type": "markdown",
   "metadata": {},
   "source": [
    "# SENTIMENT ANALYSIS ON SPEECH"
   ]
  },
  {
   "cell_type": "markdown",
   "metadata": {},
   "source": [
    "***Gerekli kütüphaneleri import edelim;***"
   ]
  },
  {
   "cell_type": "code",
   "execution_count": 1,
   "metadata": {},
   "outputs": [],
   "source": [
    "import tscribe\n",
    "import pandas as pd\n",
    "import webvtt\n",
    "import json\n",
    "import datetime\n",
    "import time as ptime\n",
    "from nltk.tokenize import word_tokenize, sent_tokenize"
   ]
  },
  {
   "cell_type": "markdown",
   "metadata": {},
   "source": [
    "***Konuşmacılar, başlangıç/bitiş değerleri ve konuşmaları***"
   ]
  },
  {
   "cell_type": "code",
   "execution_count": 2,
   "metadata": {},
   "outputs": [
    {
     "name": "stdout",
     "output_type": "stream",
     "text": [
      "C:/Users/10011598/Sentitech/transcript.csv written in 0.28 seconds.\n"
     ]
    }
   ],
   "source": [
    "tscribe.write(\"C:/Users/10011598/Sentitech/Audio/uzaktan_calisma_performansi_nasil_etkiliyor.json\", format=\"csv\", save_as= \"C:/Users/10011598/Sentitech/transcript.csv\")"
   ]
  },
  {
   "cell_type": "code",
   "execution_count": 3,
   "metadata": {},
   "outputs": [],
   "source": [
    "df = pd.read_csv(\"C:/Users/10011598/Sentitech/transcript.csv\");"
   ]
  },
  {
   "cell_type": "code",
   "execution_count": 4,
   "metadata": {},
   "outputs": [
    {
     "data": {
      "text/html": [
       "<div>\n",
       "<style scoped>\n",
       "    .dataframe tbody tr th:only-of-type {\n",
       "        vertical-align: middle;\n",
       "    }\n",
       "\n",
       "    .dataframe tbody tr th {\n",
       "        vertical-align: top;\n",
       "    }\n",
       "\n",
       "    .dataframe thead th {\n",
       "        text-align: right;\n",
       "    }\n",
       "</style>\n",
       "<table border=\"1\" class=\"dataframe\">\n",
       "  <thead>\n",
       "    <tr style=\"text-align: right;\">\n",
       "      <th></th>\n",
       "      <th>start_time</th>\n",
       "      <th>end_time</th>\n",
       "      <th>speaker</th>\n",
       "      <th>comment</th>\n",
       "    </tr>\n",
       "  </thead>\n",
       "  <tbody>\n",
       "    <tr>\n",
       "      <th>0</th>\n",
       "      <td>00:00:04</td>\n",
       "      <td>00:00:14</td>\n",
       "      <td>spk_0</td>\n",
       "      <td>Biz yine bu konuda, iş sonuçlarıyla ilgili han...</td>\n",
       "    </tr>\n",
       "    <tr>\n",
       "      <th>1</th>\n",
       "      <td>00:00:20</td>\n",
       "      <td>00:00:42</td>\n",
       "      <td>spk_1</td>\n",
       "      <td>üretkenlik içinde şunu söyleyebilirim başlığı ...</td>\n",
       "    </tr>\n",
       "    <tr>\n",
       "      <th>2</th>\n",
       "      <td>00:00:42</td>\n",
       "      <td>00:01:00</td>\n",
       "      <td>spk_1</td>\n",
       "      <td>Ee işte iş yapılır, özel hayatın çok fazla ora...</td>\n",
       "    </tr>\n",
       "    <tr>\n",
       "      <th>3</th>\n",
       "      <td>00:01:01</td>\n",
       "      <td>00:01:22</td>\n",
       "      <td>spk_1</td>\n",
       "      <td>Ee dolayısıyla ee hani bu anlamda ben mesela ü...</td>\n",
       "    </tr>\n",
       "    <tr>\n",
       "      <th>4</th>\n",
       "      <td>00:01:22</td>\n",
       "      <td>00:01:41</td>\n",
       "      <td>spk_1</td>\n",
       "      <td>şu anda çok daha uykusunu almış bir şekilde ye...</td>\n",
       "    </tr>\n",
       "    <tr>\n",
       "      <th>5</th>\n",
       "      <td>00:01:41</td>\n",
       "      <td>00:01:45</td>\n",
       "      <td>spk_1</td>\n",
       "      <td>en basiti kapılarından geçen herkese merhaba d...</td>\n",
       "    </tr>\n",
       "    <tr>\n",
       "      <th>6</th>\n",
       "      <td>00:01:45</td>\n",
       "      <td>00:01:46</td>\n",
       "      <td>spk_1</td>\n",
       "      <td>iki</td>\n",
       "    </tr>\n",
       "    <tr>\n",
       "      <th>7</th>\n",
       "      <td>00:01:46</td>\n",
       "      <td>00:01:46</td>\n",
       "      <td>spk_2</td>\n",
       "      <td>dakika da olsa</td>\n",
       "    </tr>\n",
       "    <tr>\n",
       "      <th>8</th>\n",
       "      <td>00:01:46</td>\n",
       "      <td>00:02:05</td>\n",
       "      <td>spk_1</td>\n",
       "      <td>sohbet etmek istiyor. Yirmi kişi bunu yapsa kı...</td>\n",
       "    </tr>\n",
       "    <tr>\n",
       "      <th>9</th>\n",
       "      <td>00:02:06</td>\n",
       "      <td>00:02:19</td>\n",
       "      <td>spk_1</td>\n",
       "      <td>bir çok çalışır olduk, var yok aslında diyorum...</td>\n",
       "    </tr>\n",
       "    <tr>\n",
       "      <th>10</th>\n",
       "      <td>00:02:19</td>\n",
       "      <td>00:02:24</td>\n",
       "      <td>spk_2</td>\n",
       "      <td>ben Üretkenlikte Meclisi veya pozitif çok cidd...</td>\n",
       "    </tr>\n",
       "    <tr>\n",
       "      <th>11</th>\n",
       "      <td>00:02:24</td>\n",
       "      <td>00:02:27</td>\n",
       "      <td>spk_2</td>\n",
       "      <td>duygu, durum yönetmeye bir kenara bırakırsak</td>\n",
       "    </tr>\n",
       "    <tr>\n",
       "      <th>12</th>\n",
       "      <td>00:02:27</td>\n",
       "      <td>00:02:59</td>\n",
       "      <td>spk_2</td>\n",
       "      <td>sadece böyle bir şey olduğunu görün. E bilgisa...</td>\n",
       "    </tr>\n",
       "    <tr>\n",
       "      <th>13</th>\n",
       "      <td>00:03:02</td>\n",
       "      <td>00:03:09</td>\n",
       "      <td>spk_0</td>\n",
       "      <td>Peki ee daha yine en doğru ee bilgi aldığımız ...</td>\n",
       "    </tr>\n",
       "  </tbody>\n",
       "</table>\n",
       "</div>"
      ],
      "text/plain": [
       "   start_time  end_time speaker  \\\n",
       "0    00:00:04  00:00:14   spk_0   \n",
       "1    00:00:20  00:00:42   spk_1   \n",
       "2    00:00:42  00:01:00   spk_1   \n",
       "3    00:01:01  00:01:22   spk_1   \n",
       "4    00:01:22  00:01:41   spk_1   \n",
       "5    00:01:41  00:01:45   spk_1   \n",
       "6    00:01:45  00:01:46   spk_1   \n",
       "7    00:01:46  00:01:46   spk_2   \n",
       "8    00:01:46  00:02:05   spk_1   \n",
       "9    00:02:06  00:02:19   spk_1   \n",
       "10   00:02:19  00:02:24   spk_2   \n",
       "11   00:02:24  00:02:27   spk_2   \n",
       "12   00:02:27  00:02:59   spk_2   \n",
       "13   00:03:02  00:03:09   spk_0   \n",
       "\n",
       "                                              comment  \n",
       "0   Biz yine bu konuda, iş sonuçlarıyla ilgili han...  \n",
       "1   üretkenlik içinde şunu söyleyebilirim başlığı ...  \n",
       "2   Ee işte iş yapılır, özel hayatın çok fazla ora...  \n",
       "3   Ee dolayısıyla ee hani bu anlamda ben mesela ü...  \n",
       "4   şu anda çok daha uykusunu almış bir şekilde ye...  \n",
       "5   en basiti kapılarından geçen herkese merhaba d...  \n",
       "6                                                 iki  \n",
       "7                                      dakika da olsa  \n",
       "8   sohbet etmek istiyor. Yirmi kişi bunu yapsa kı...  \n",
       "9   bir çok çalışır olduk, var yok aslında diyorum...  \n",
       "10  ben Üretkenlikte Meclisi veya pozitif çok cidd...  \n",
       "11       duygu, durum yönetmeye bir kenara bırakırsak  \n",
       "12  sadece böyle bir şey olduğunu görün. E bilgisa...  \n",
       "13  Peki ee daha yine en doğru ee bilgi aldığımız ...  "
      ]
     },
     "execution_count": 4,
     "metadata": {},
     "output_type": "execute_result"
    }
   ],
   "source": [
    "df.drop(['Unnamed: 0'], axis = 1)"
   ]
  },
  {
   "cell_type": "markdown",
   "metadata": {},
   "source": [
    "***Türkçe köken kontrolü;***"
   ]
  },
  {
   "cell_type": "code",
   "execution_count": 5,
   "metadata": {},
   "outputs": [],
   "source": [
    "from turkishnlp import detector\n",
    "obj = detector.TurkishNLP()"
   ]
  },
  {
   "cell_type": "code",
   "execution_count": 6,
   "metadata": {},
   "outputs": [
    {
     "data": {
      "text/plain": [
       "False"
      ]
     },
     "execution_count": 6,
     "metadata": {},
     "output_type": "execute_result"
    }
   ],
   "source": [
    "obj.is_turkish_origin(\"program\")"
   ]
  },
  {
   "cell_type": "markdown",
   "metadata": {},
   "source": [
    "***Text sınıflandırma işlemleri;***"
   ]
  },
  {
   "cell_type": "code",
   "execution_count": 7,
   "metadata": {},
   "outputs": [],
   "source": [
    "from transformers import pipeline, AutoModelForTokenClassification, AutoTokenizer, AutoModelForSequenceClassification\n",
    "tokenizer= AutoTokenizer.from_pretrained(\"savasy/bert-turkish-text-classification\")\n",
    "\n",
    "# build and load model, it take time depending on your internet connection\n",
    "model= AutoModelForSequenceClassification.from_pretrained(\"savasy/bert-turkish-text-classification\")\n",
    "\n",
    "# make pipeline\n",
    "nlp1=pipeline(\"sentiment-analysis\", model=model, tokenizer=tokenizer)\n",
    "\n",
    "# apply model\n",
    "nlp1(\"bla bla\")\n",
    "# [{'label': 'LABEL_2', 'score': 0.4753005802631378}]\n",
    "\n",
    "code_to_label={\n",
    " 'LABEL_0': 'dunya ',\n",
    " 'LABEL_1': 'ekonomi ',\n",
    " 'LABEL_2': 'kultur ',\n",
    " 'LABEL_3': 'saglik ',\n",
    " 'LABEL_4': 'siyaset ',\n",
    " 'LABEL_5': 'spor',\n",
    " 'LABEL_6': 'teknoloji '}"
   ]
  },
  {
   "cell_type": "code",
   "execution_count": 8,
   "metadata": {},
   "outputs": [
    {
     "data": {
      "text/plain": [
       "[{'label': 'sport', 'score': 0.9447410106658936}]"
      ]
     },
     "execution_count": 8,
     "metadata": {},
     "output_type": "execute_result"
    }
   ],
   "source": [
    "nlp1(\"Türkiye İsviçre ile oynadığı futbol maçından galip geldi\")"
   ]
  },
  {
   "cell_type": "code",
   "execution_count": 9,
   "metadata": {},
   "outputs": [],
   "source": [
    "from transformers import pipeline, AutoTokenizer, AutoModelForSequenceClassification\n",
    "\n",
    "tokenizer = AutoTokenizer.from_pretrained(\"gurkan08/bert-turkish-text-classification\")\n",
    "model = AutoModelForSequenceClassification.from_pretrained(\"gurkan08/bert-turkish-text-classification\")\n",
    "\n",
    "nlp2 = pipeline(\"sentiment-analysis\", model=model, tokenizer=tokenizer)\n",
    "\n",
    "label_dict = {\n",
    " 'LABEL_0': 'ekonomi',\n",
    " 'LABEL_1': 'spor',\n",
    " 'LABEL_2': 'saglik',\n",
    " 'LABEL_3': 'kultur_sanat',\n",
    " 'LABEL_4': 'bilim_teknoloji',\n",
    " 'LABEL_5': 'egitim'}"
   ]
  },
  {
   "cell_type": "code",
   "execution_count": 10,
   "metadata": {
    "scrolled": true
   },
   "outputs": [
    {
     "data": {
      "text/plain": [
       "[{'label': 'spor', 'score': 0.27860233187675476}]"
      ]
     },
     "execution_count": 10,
     "metadata": {},
     "output_type": "execute_result"
    }
   ],
   "source": [
    "nlp2(\"Türkiye İsviçre ile oynadığı futbol maçından galip geldi\")"
   ]
  },
  {
   "cell_type": "markdown",
   "metadata": {},
   "source": [
    "**ÇIKARIM:** *İki farklı model denendiğinde \"savasy/bert-turkish-text-classification\"in daha başarılı olduğu görülmektedir.*  "
   ]
  },
  {
   "cell_type": "markdown",
   "metadata": {},
   "source": [
    "***NER;***"
   ]
  },
  {
   "cell_type": "code",
   "execution_count": 11,
   "metadata": {
    "scrolled": false
   },
   "outputs": [
    {
     "data": {
      "text/plain": [
       "[{'word': 'Mustafa',\n",
       "  'score': 0.9938516616821289,\n",
       "  'entity': 'B-PER',\n",
       "  'index': 1,\n",
       "  'start': 0,\n",
       "  'end': 7},\n",
       " {'word': 'Kemal',\n",
       "  'score': 0.9881671071052551,\n",
       "  'entity': 'I-PER',\n",
       "  'index': 2,\n",
       "  'start': 8,\n",
       "  'end': 13},\n",
       " {'word': 'Atatürk',\n",
       "  'score': 0.9957979321479797,\n",
       "  'entity': 'I-PER',\n",
       "  'index': 3,\n",
       "  'start': 14,\n",
       "  'end': 21},\n",
       " {'word': 'Samsun',\n",
       "  'score': 0.9059982299804688,\n",
       "  'entity': 'B-LOC',\n",
       "  'index': 9,\n",
       "  'start': 39,\n",
       "  'end': 45}]"
      ]
     },
     "execution_count": 11,
     "metadata": {},
     "output_type": "execute_result"
    }
   ],
   "source": [
    "from transformers import pipeline, AutoModelForTokenClassification, AutoTokenizer\n",
    "model = AutoModelForTokenClassification.from_pretrained(\"savasy/bert-base-turkish-ner-cased\")\n",
    "tokenizer = AutoTokenizer.from_pretrained(\"savasy/bert-base-turkish-ner-cased\")\n",
    "ner=pipeline('ner', model=model, tokenizer=tokenizer)\n",
    "ner(\"Mustafa Kemal Atatürk 19 Mayıs 1919'da Samsun'a ayak bastı.\")"
   ]
  },
  {
   "cell_type": "code",
   "execution_count": 12,
   "metadata": {
    "scrolled": true
   },
   "outputs": [
    {
     "data": {
      "text/plain": [
       "[{'word': 'Türkiye',\n",
       "  'score': 0.8338261246681213,\n",
       "  'entity': 'B-ORG',\n",
       "  'index': 1,\n",
       "  'start': 0,\n",
       "  'end': 7},\n",
       " {'word': 'İsviçre',\n",
       "  'score': 0.5075637102127075,\n",
       "  'entity': 'B-LOC',\n",
       "  'index': 2,\n",
       "  'start': 8,\n",
       "  'end': 15}]"
      ]
     },
     "execution_count": 12,
     "metadata": {},
     "output_type": "execute_result"
    }
   ],
   "source": [
    "ner(\"Türkiye İsviçre ile oynadığı futbol maçından galip geldi\")"
   ]
  },
  {
   "cell_type": "markdown",
   "metadata": {},
   "source": [
    "***SnowBall Stemmer ile kelimeleri köklerine ayırma;***"
   ]
  },
  {
   "cell_type": "code",
   "execution_count": 13,
   "metadata": {},
   "outputs": [
    {
     "data": {
      "text/plain": [
       "'sonra'"
      ]
     },
     "execution_count": 13,
     "metadata": {},
     "output_type": "execute_result"
    }
   ],
   "source": [
    "from snowballstemmer import TurkishStemmer\n",
    "turkStem=TurkishStemmer()\n",
    "turkStem.stemWord(\"konuda\") #konu\n",
    "turkStem.stemWord(\"araştırmayla\") #araştırma\n",
    "turkStem.stemWord(\"sonra\") #sonra"
   ]
  },
  {
   "cell_type": "code",
   "execution_count": 14,
   "metadata": {},
   "outputs": [
    {
     "data": {
      "text/plain": [
       "'konu'"
      ]
     },
     "execution_count": 14,
     "metadata": {},
     "output_type": "execute_result"
    }
   ],
   "source": [
    "turkStem.stemWord(\"konuda\")"
   ]
  },
  {
   "cell_type": "code",
   "execution_count": 15,
   "metadata": {},
   "outputs": [
    {
     "data": {
      "text/plain": [
       "'araştırma'"
      ]
     },
     "execution_count": 15,
     "metadata": {},
     "output_type": "execute_result"
    }
   ],
   "source": [
    "turkStem.stemWord(\"araştırmayla\")"
   ]
  },
  {
   "cell_type": "code",
   "execution_count": 16,
   "metadata": {},
   "outputs": [
    {
     "data": {
      "text/plain": [
       "'sonra'"
      ]
     },
     "execution_count": 16,
     "metadata": {},
     "output_type": "execute_result"
    }
   ],
   "source": [
    "turkStem.stemWord(\"sonra\")"
   ]
  },
  {
   "cell_type": "markdown",
   "metadata": {},
   "source": [
    "***Text olarak alınabilecek kod;***"
   ]
  },
  {
   "cell_type": "code",
   "execution_count": 17,
   "metadata": {},
   "outputs": [
    {
     "name": "stdout",
     "output_type": "stream",
     "text": [
      "Filename:  C:/Users/10011598/Sentitech/Audio/uzaktan_calisma_performansi_nasil_etkiliyor.json\n"
     ]
    }
   ],
   "source": [
    "#!/usr/bin/env python3\n",
    "def main():\n",
    "\timport sys\n",
    "\timport json\n",
    "\timport datetime\n",
    "\timport codecs\n",
    "\n",
    "\tfilename='C:/Users/10011598/Sentitech/Audio/uzaktan_calisma_performansi_nasil_etkiliyor'\n",
    "\tprint (\"Filename: \", filename+'.json')\n",
    "\twith codecs.open(filename+'.txt', 'w', 'utf-8') as w:\n",
    "\t\twith codecs.open(filename+'.json', 'r', 'utf-8') as f:\n",
    "\t\t\tdata=json.loads(f.read())\n",
    "\t\t\tlabels = data['results']['speaker_labels']['segments']\n",
    "\t\t\tspeaker_start_times={}\n",
    "\t\t\tfor label in labels:\n",
    "\t\t\t\tfor item in label['items']:\n",
    "\t\t\t\t\tspeaker_start_times[item['start_time']] =item['speaker_label']\n",
    "\t\t\titems = data['results']['items']\n",
    "\t\t\tlines=[]\n",
    "\t\t\tline=''\n",
    "\t\t\ttime=0\n",
    "\t\t\tspeaker='null'\n",
    "\t\t\ti=0\n",
    "\t\t\tfor item in items:\n",
    "\t\t\t\ti=i+1\n",
    "\t\t\t\tcontent = item['alternatives'][0]['content']\n",
    "\t\t\t\tif item.get('start_time'):\n",
    "\t\t\t\t\tcurrent_speaker=speaker_start_times[item['start_time']]\n",
    "\t\t\t\telif item['type'] == 'punctuation':\n",
    "\t\t\t\t\tline = line+content\n",
    "\t\t\t\tif current_speaker != speaker:\n",
    "\t\t\t\t\tif speaker:\n",
    "\t\t\t\t\t\tlines.append({'speaker':speaker, 'line':line, 'time':time})\n",
    "\t\t\t\t\tline=content\n",
    "\t\t\t\t\tspeaker=current_speaker\n",
    "\t\t\t\t\ttime=item['start_time']\n",
    "\t\t\t\telif item['type'] != 'punctuation':\n",
    "\t\t\t\t\tline = line + ' ' + content\n",
    "\t\t\tlines.append({'speaker':speaker, 'line':line,'time':time})\n",
    "\t\t\tsorted_lines = sorted(lines,key=lambda k: float(k['time']))\n",
    "          \n",
    "\t\t\tfor line_data in sorted_lines:\n",
    "\t\t\t\tline='[' + str(datetime.timedelta(seconds=int(round(float(line_data['time']))))) + '] ' + line_data.get('speaker') + ': ' + line_data.get('line')\n",
    "\t\t\t\tw.write(line + '\\n\\n')\n",
    "\n",
    "\n",
    "if __name__ == '__main__':\n",
    "\tmain()"
   ]
  },
  {
   "cell_type": "code",
   "execution_count": 18,
   "metadata": {},
   "outputs": [
    {
     "name": "stdout",
     "output_type": "stream",
     "text": [
      "Filename:  C:/Users/10011598/Sentitech/Audio/uzaktan_calisma_performansi_nasil_etkiliyor.json\n"
     ]
    }
   ],
   "source": [
    "main()"
   ]
  },
  {
   "cell_type": "markdown",
   "metadata": {},
   "source": [
    "***Diyaloglar için DataFrame olarak alınabilecek kod (1. Yol);***"
   ]
  },
  {
   "cell_type": "code",
   "execution_count": 19,
   "metadata": {},
   "outputs": [],
   "source": [
    "def speaker():\n",
    "    import sys\n",
    "    import json\n",
    "    import datetime\n",
    "    import codecs\n",
    "\n",
    "    filename='C:/Users/10011598/Sentitech/Audio/uzaktan_calisma_performansi_nasil_etkiliyor'\n",
    "    #print (\"Filename: \", filename+'.json')\n",
    "\n",
    "    with codecs.open(filename+'.json', 'r', 'utf-8') as f:\n",
    "        data=json.loads(f.read())\n",
    "        labels = data['results']['speaker_labels']['segments']\n",
    "        #print(labels)\n",
    "        speaker_start_times={}\n",
    "        for label in labels:\n",
    "            for item in label['items']:\n",
    "                speaker_start_times[item['start_time']] =item['speaker_label']\n",
    "        items = data['results']['items']\n",
    "        line=''\n",
    "        time=0\n",
    "        speaker='null'\n",
    "        i=0\n",
    "        lines=[]\n",
    "        time1 = []\n",
    "        speaker1 = []\n",
    "        text1 = []\n",
    "        \n",
    "        #print(items)\n",
    "        for item in items:\n",
    "            i=i+1\n",
    "            content = item['alternatives'][0]['content']\n",
    "        \n",
    "            if item.get('start_time'):\n",
    "                current_speaker=speaker_start_times[item['start_time']]\n",
    "            elif item['type'] == 'punctuation':\n",
    "                line = line+content\n",
    "            \n",
    "            if current_speaker != speaker:\n",
    "                if speaker:\n",
    "                    lines.append({'speaker':speaker, 'line':line, 'time':time})\n",
    "                    speaker1.append(speaker)\n",
    "                    time1.append(str(datetime.timedelta(seconds=int(round(float((time)))))))\n",
    "                    text1.append(line)\n",
    "                    \n",
    "                    \n",
    "                line=content\n",
    "                speaker=current_speaker\n",
    "                time=item['start_time']\n",
    "                \n",
    "                \n",
    "            elif item['type'] != 'punctuation':\n",
    "                line = line + ' ' + content\n",
    "                \n",
    "        lines.append({'speaker':speaker, 'line':line,'time':time})\n",
    "        \n",
    "        speaker1.append(speaker)\n",
    "        text1.append(line)\n",
    "        time1.append(str(datetime.timedelta(seconds=int(round(float((time)))))))\n",
    "        sorted_lines = sorted(lines,key=lambda k: float(k['time']))\n",
    "        for line_data in sorted_lines:\n",
    "            #print(line_data)\n",
    "            line='[' + str(datetime.timedelta(seconds=int(round(float(line_data['time']))))) + '] ' + line_data.get('speaker') + ': ' + line_data.get('line')\n",
    "            #print(line)\n",
    "    df1=pd.DataFrame(text1,columns=['text'])\n",
    "    df1['speaker']=speaker1\n",
    "    df1['time'] = time1\n",
    "    df1=df1.drop(index=0,axis=0)\n",
    "    #print(df1.drop(index=0,axis=0))\n",
    "    return df1"
   ]
  },
  {
   "cell_type": "code",
   "execution_count": 20,
   "metadata": {},
   "outputs": [
    {
     "data": {
      "text/html": [
       "<div>\n",
       "<style scoped>\n",
       "    .dataframe tbody tr th:only-of-type {\n",
       "        vertical-align: middle;\n",
       "    }\n",
       "\n",
       "    .dataframe tbody tr th {\n",
       "        vertical-align: top;\n",
       "    }\n",
       "\n",
       "    .dataframe thead th {\n",
       "        text-align: right;\n",
       "    }\n",
       "</style>\n",
       "<table border=\"1\" class=\"dataframe\">\n",
       "  <thead>\n",
       "    <tr style=\"text-align: right;\">\n",
       "      <th></th>\n",
       "      <th>text</th>\n",
       "      <th>speaker</th>\n",
       "      <th>time</th>\n",
       "    </tr>\n",
       "  </thead>\n",
       "  <tbody>\n",
       "    <tr>\n",
       "      <th>1</th>\n",
       "      <td>Biz yine bu konuda, iş sonuçlarıyla ilgili han...</td>\n",
       "      <td>spk_0</td>\n",
       "      <td>0:00:04</td>\n",
       "    </tr>\n",
       "    <tr>\n",
       "      <th>2</th>\n",
       "      <td>üretkenlik içinde şunu söyleyebilirim başlığı ...</td>\n",
       "      <td>spk_1</td>\n",
       "      <td>0:00:20</td>\n",
       "    </tr>\n",
       "    <tr>\n",
       "      <th>3</th>\n",
       "      <td>dakika da olsa</td>\n",
       "      <td>spk_2</td>\n",
       "      <td>0:01:46</td>\n",
       "    </tr>\n",
       "    <tr>\n",
       "      <th>4</th>\n",
       "      <td>sohbet etmek istiyor. Yirmi kişi bunu yapsa kı...</td>\n",
       "      <td>spk_1</td>\n",
       "      <td>0:01:47</td>\n",
       "    </tr>\n",
       "    <tr>\n",
       "      <th>5</th>\n",
       "      <td>ben Üretkenlikte Meclisi veya pozitif çok cidd...</td>\n",
       "      <td>spk_2</td>\n",
       "      <td>0:02:19</td>\n",
       "    </tr>\n",
       "    <tr>\n",
       "      <th>6</th>\n",
       "      <td>Peki ee daha yine en doğru ee bilgi aldığımız ...</td>\n",
       "      <td>spk_0</td>\n",
       "      <td>0:03:03</td>\n",
       "    </tr>\n",
       "  </tbody>\n",
       "</table>\n",
       "</div>"
      ],
      "text/plain": [
       "                                                text speaker     time\n",
       "1  Biz yine bu konuda, iş sonuçlarıyla ilgili han...   spk_0  0:00:04\n",
       "2  üretkenlik içinde şunu söyleyebilirim başlığı ...   spk_1  0:00:20\n",
       "3                                     dakika da olsa   spk_2  0:01:46\n",
       "4  sohbet etmek istiyor. Yirmi kişi bunu yapsa kı...   spk_1  0:01:47\n",
       "5  ben Üretkenlikte Meclisi veya pozitif çok cidd...   spk_2  0:02:19\n",
       "6  Peki ee daha yine en doğru ee bilgi aldığımız ...   spk_0  0:03:03"
      ]
     },
     "execution_count": 20,
     "metadata": {},
     "output_type": "execute_result"
    }
   ],
   "source": [
    "data=speaker()\n",
    "data"
   ]
  },
  {
   "cell_type": "markdown",
   "metadata": {},
   "source": [
    "***Diyaloglar için DataFrame olarak alınabilecek kod (2. Yol);***"
   ]
  },
  {
   "cell_type": "code",
   "execution_count": 31,
   "metadata": {},
   "outputs": [],
   "source": [
    "result = df.to_json(orient=\"split\")\n",
    "parsed = json.loads(result)\n",
    "\n",
    "dictt=[]\n",
    "for i in parsed['data']:\n",
    "    dictt.append({\n",
    "    'speaker':i[3],\n",
    "    'start_time':i[1],\n",
    "    'end_time':i[2],\n",
    "    'comment':i[4]\n",
    "    })\n",
    "    \n",
    "#dictt"
   ]
  },
  {
   "cell_type": "code",
   "execution_count": 32,
   "metadata": {},
   "outputs": [],
   "source": [
    "def speaker2():\n",
    "    \n",
    "    index=0\n",
    "    dicti=[]\n",
    "    for i in dictt:\n",
    "        temp={}\n",
    "        try:\n",
    "            if index==0:\n",
    "                #print(\"index=0\")\n",
    "                dicti.append(dictt[index])\n",
    "\n",
    "            elif dictt[index]['speaker']!=dictt[index-1]['speaker']:\n",
    "                #print(\"bir önceki farklı ise speaker\")\n",
    "                dicti.append({\n",
    "                        'speaker': dictt[index]['speaker'],\n",
    "                        'start_time':dictt[index]['start_time'],\n",
    "                        'end_time':dictt[index]['end_time'],\n",
    "                        'comment':dictt[index]['comment']\n",
    "                })\n",
    "\n",
    "            else:\n",
    "                #print(\"bir önceki ile aynı ise speaker\")\n",
    "                try:\n",
    "                    newindex=len(dicti)-1\n",
    "                    \"\"\"\n",
    "                    temp={\n",
    "                        'speaker': dictt[index]['speaker'],\n",
    "                        'start_time':dictt[index-1]['start_time'],\n",
    "                        'end_time':dictt[index]['end_time'],\n",
    "                        'comment':dictt[index-1]['comment']+'.'+dictt[index]['comment']\n",
    "                    }\n",
    "                    \"\"\"\n",
    "                    dicti[newindex]['speaker']=dictt[index]['speaker']\n",
    "                    dicti[newindex]['start_time']=dicti[newindex]['start_time']\n",
    "                    dicti[newindex]['end_time']=dictt[index]['end_time']\n",
    "                    dicti[newindex]['comment']=dicti[newindex]['comment']+\".\"+dictt[index]['comment']\n",
    "                \n",
    "                except IndexError as e:\n",
    "                    #print(\"hata verdi!\")\n",
    "                    dicti.append(temp)\n",
    "        except IndexError as e:\n",
    "            print(e)\n",
    "        #print(index)\n",
    "        index+=1\n",
    "    a = pd.DataFrame.from_dict(dicti)\n",
    "    return a"
   ]
  },
  {
   "cell_type": "code",
   "execution_count": 33,
   "metadata": {
    "scrolled": true
   },
   "outputs": [
    {
     "data": {
      "text/html": [
       "<div>\n",
       "<style scoped>\n",
       "    .dataframe tbody tr th:only-of-type {\n",
       "        vertical-align: middle;\n",
       "    }\n",
       "\n",
       "    .dataframe tbody tr th {\n",
       "        vertical-align: top;\n",
       "    }\n",
       "\n",
       "    .dataframe thead th {\n",
       "        text-align: right;\n",
       "    }\n",
       "</style>\n",
       "<table border=\"1\" class=\"dataframe\">\n",
       "  <thead>\n",
       "    <tr style=\"text-align: right;\">\n",
       "      <th></th>\n",
       "      <th>speaker</th>\n",
       "      <th>start_time</th>\n",
       "      <th>end_time</th>\n",
       "      <th>comment</th>\n",
       "    </tr>\n",
       "  </thead>\n",
       "  <tbody>\n",
       "    <tr>\n",
       "      <th>0</th>\n",
       "      <td>spk_0</td>\n",
       "      <td>00:00:04</td>\n",
       "      <td>00:00:14</td>\n",
       "      <td>Biz yine bu konuda, iş sonuçlarıyla ilgili han...</td>\n",
       "    </tr>\n",
       "    <tr>\n",
       "      <th>1</th>\n",
       "      <td>spk_1</td>\n",
       "      <td>00:00:20</td>\n",
       "      <td>00:01:46</td>\n",
       "      <td>üretkenlik içinde şunu söyleyebilirim başlığı ...</td>\n",
       "    </tr>\n",
       "    <tr>\n",
       "      <th>2</th>\n",
       "      <td>spk_2</td>\n",
       "      <td>00:01:46</td>\n",
       "      <td>00:01:46</td>\n",
       "      <td>dakika da olsa</td>\n",
       "    </tr>\n",
       "    <tr>\n",
       "      <th>3</th>\n",
       "      <td>spk_1</td>\n",
       "      <td>00:01:46</td>\n",
       "      <td>00:02:19</td>\n",
       "      <td>sohbet etmek istiyor. Yirmi kişi bunu yapsa kı...</td>\n",
       "    </tr>\n",
       "    <tr>\n",
       "      <th>4</th>\n",
       "      <td>spk_2</td>\n",
       "      <td>00:02:19</td>\n",
       "      <td>00:02:59</td>\n",
       "      <td>ben Üretkenlikte Meclisi veya pozitif çok cidd...</td>\n",
       "    </tr>\n",
       "    <tr>\n",
       "      <th>5</th>\n",
       "      <td>spk_0</td>\n",
       "      <td>00:03:02</td>\n",
       "      <td>00:03:09</td>\n",
       "      <td>Peki ee daha yine en doğru ee bilgi aldığımız ...</td>\n",
       "    </tr>\n",
       "  </tbody>\n",
       "</table>\n",
       "</div>"
      ],
      "text/plain": [
       "  speaker start_time  end_time  \\\n",
       "0   spk_0   00:00:04  00:00:14   \n",
       "1   spk_1   00:00:20  00:01:46   \n",
       "2   spk_2   00:01:46  00:01:46   \n",
       "3   spk_1   00:01:46  00:02:19   \n",
       "4   spk_2   00:02:19  00:02:59   \n",
       "5   spk_0   00:03:02  00:03:09   \n",
       "\n",
       "                                             comment  \n",
       "0  Biz yine bu konuda, iş sonuçlarıyla ilgili han...  \n",
       "1  üretkenlik içinde şunu söyleyebilirim başlığı ...  \n",
       "2                                     dakika da olsa  \n",
       "3  sohbet etmek istiyor. Yirmi kişi bunu yapsa kı...  \n",
       "4  ben Üretkenlikte Meclisi veya pozitif çok cidd...  \n",
       "5  Peki ee daha yine en doğru ee bilgi aldığımız ...  "
      ]
     },
     "execution_count": 33,
     "metadata": {},
     "output_type": "execute_result"
    }
   ],
   "source": [
    "data = speaker2()\n",
    "data"
   ]
  },
  {
   "cell_type": "markdown",
   "metadata": {},
   "source": [
    "## Sentiment Analysis"
   ]
  },
  {
   "cell_type": "code",
   "execution_count": 24,
   "metadata": {},
   "outputs": [],
   "source": [
    "## Turkish Bert Pipeline\n",
    "from transformers import AutoModelForSequenceClassification, AutoTokenizer, pipeline\n",
    "\n",
    "model = AutoModelForSequenceClassification.from_pretrained(\"savasy/bert-base-turkish-sentiment-cased\")\n",
    "tokenizer = AutoTokenizer.from_pretrained(\"savasy/bert-base-turkish-sentiment-cased\")\n",
    "sa= pipeline(\"sentiment-analysis\", tokenizer=tokenizer, model=model)"
   ]
  },
  {
   "cell_type": "code",
   "execution_count": 25,
   "metadata": {},
   "outputs": [],
   "source": [
    "sentiment = []\n",
    "score = []\n",
    "for i in data['comment']:\n",
    "    sentiment.append(sa(i)[0]['label'])\n",
    "    score.append(sa(i)[0]['score'])\n",
    "data['sentiment']=sentiment\n",
    "data['score']=score"
   ]
  },
  {
   "cell_type": "code",
   "execution_count": 26,
   "metadata": {},
   "outputs": [
    {
     "data": {
      "text/html": [
       "<div>\n",
       "<style scoped>\n",
       "    .dataframe tbody tr th:only-of-type {\n",
       "        vertical-align: middle;\n",
       "    }\n",
       "\n",
       "    .dataframe tbody tr th {\n",
       "        vertical-align: top;\n",
       "    }\n",
       "\n",
       "    .dataframe thead th {\n",
       "        text-align: right;\n",
       "    }\n",
       "</style>\n",
       "<table border=\"1\" class=\"dataframe\">\n",
       "  <thead>\n",
       "    <tr style=\"text-align: right;\">\n",
       "      <th></th>\n",
       "      <th>speaker</th>\n",
       "      <th>start_time</th>\n",
       "      <th>end_time</th>\n",
       "      <th>comment</th>\n",
       "      <th>sentiment</th>\n",
       "      <th>score</th>\n",
       "    </tr>\n",
       "  </thead>\n",
       "  <tbody>\n",
       "    <tr>\n",
       "      <th>0</th>\n",
       "      <td>spk_0</td>\n",
       "      <td>00:00:04</td>\n",
       "      <td>00:00:14</td>\n",
       "      <td>Biz yine bu konuda, iş sonuçlarıyla ilgili han...</td>\n",
       "      <td>negative</td>\n",
       "      <td>0.948679</td>\n",
       "    </tr>\n",
       "    <tr>\n",
       "      <th>1</th>\n",
       "      <td>spk_1</td>\n",
       "      <td>00:00:20</td>\n",
       "      <td>00:01:46</td>\n",
       "      <td>üretkenlik içinde şunu söyleyebilirim başlığı ...</td>\n",
       "      <td>positive</td>\n",
       "      <td>0.845118</td>\n",
       "    </tr>\n",
       "    <tr>\n",
       "      <th>2</th>\n",
       "      <td>spk_2</td>\n",
       "      <td>00:01:46</td>\n",
       "      <td>00:01:46</td>\n",
       "      <td>dakika da olsa</td>\n",
       "      <td>negative</td>\n",
       "      <td>0.960027</td>\n",
       "    </tr>\n",
       "    <tr>\n",
       "      <th>3</th>\n",
       "      <td>spk_1</td>\n",
       "      <td>00:01:46</td>\n",
       "      <td>00:02:19</td>\n",
       "      <td>sohbet etmek istiyor. Yirmi kişi bunu yapsa kı...</td>\n",
       "      <td>positive</td>\n",
       "      <td>0.955773</td>\n",
       "    </tr>\n",
       "    <tr>\n",
       "      <th>4</th>\n",
       "      <td>spk_2</td>\n",
       "      <td>00:02:19</td>\n",
       "      <td>00:02:59</td>\n",
       "      <td>ben Üretkenlikte Meclisi veya pozitif çok cidd...</td>\n",
       "      <td>negative</td>\n",
       "      <td>0.997754</td>\n",
       "    </tr>\n",
       "    <tr>\n",
       "      <th>5</th>\n",
       "      <td>spk_0</td>\n",
       "      <td>00:03:02</td>\n",
       "      <td>00:03:09</td>\n",
       "      <td>Peki ee daha yine en doğru ee bilgi aldığımız ...</td>\n",
       "      <td>positive</td>\n",
       "      <td>0.995301</td>\n",
       "    </tr>\n",
       "  </tbody>\n",
       "</table>\n",
       "</div>"
      ],
      "text/plain": [
       "  speaker start_time  end_time  \\\n",
       "0   spk_0   00:00:04  00:00:14   \n",
       "1   spk_1   00:00:20  00:01:46   \n",
       "2   spk_2   00:01:46  00:01:46   \n",
       "3   spk_1   00:01:46  00:02:19   \n",
       "4   spk_2   00:02:19  00:02:59   \n",
       "5   spk_0   00:03:02  00:03:09   \n",
       "\n",
       "                                             comment sentiment     score  \n",
       "0  Biz yine bu konuda, iş sonuçlarıyla ilgili han...  negative  0.948679  \n",
       "1  üretkenlik içinde şunu söyleyebilirim başlığı ...  positive  0.845118  \n",
       "2                                     dakika da olsa  negative  0.960027  \n",
       "3  sohbet etmek istiyor. Yirmi kişi bunu yapsa kı...  positive  0.955773  \n",
       "4  ben Üretkenlikte Meclisi veya pozitif çok cidd...  negative  0.997754  \n",
       "5  Peki ee daha yine en doğru ee bilgi aldığımız ...  positive  0.995301  "
      ]
     },
     "execution_count": 26,
     "metadata": {},
     "output_type": "execute_result"
    }
   ],
   "source": [
    "data"
   ]
  },
  {
   "cell_type": "markdown",
   "metadata": {},
   "source": [
    "***Konuşmacıların genel duygu durumları;***"
   ]
  },
  {
   "cell_type": "code",
   "execution_count": 27,
   "metadata": {
    "scrolled": true
   },
   "outputs": [
    {
     "data": {
      "text/html": [
       "<div>\n",
       "<style scoped>\n",
       "    .dataframe tbody tr th:only-of-type {\n",
       "        vertical-align: middle;\n",
       "    }\n",
       "\n",
       "    .dataframe tbody tr th {\n",
       "        vertical-align: top;\n",
       "    }\n",
       "\n",
       "    .dataframe thead th {\n",
       "        text-align: right;\n",
       "    }\n",
       "</style>\n",
       "<table border=\"1\" class=\"dataframe\">\n",
       "  <thead>\n",
       "    <tr style=\"text-align: right;\">\n",
       "      <th></th>\n",
       "      <th>sentiment</th>\n",
       "    </tr>\n",
       "    <tr>\n",
       "      <th>speaker</th>\n",
       "      <th></th>\n",
       "    </tr>\n",
       "  </thead>\n",
       "  <tbody>\n",
       "    <tr>\n",
       "      <th>spk_0</th>\n",
       "      <td>positive</td>\n",
       "    </tr>\n",
       "    <tr>\n",
       "      <th>spk_1</th>\n",
       "      <td>positive</td>\n",
       "    </tr>\n",
       "    <tr>\n",
       "      <th>spk_2</th>\n",
       "      <td>negative</td>\n",
       "    </tr>\n",
       "  </tbody>\n",
       "</table>\n",
       "</div>"
      ],
      "text/plain": [
       "        sentiment\n",
       "speaker          \n",
       "spk_0    positive\n",
       "spk_1    positive\n",
       "spk_2    negative"
      ]
     },
     "execution_count": 27,
     "metadata": {},
     "output_type": "execute_result"
    }
   ],
   "source": [
    "speaker_score = data['sentiment'].groupby(data['speaker'])\n",
    "speaker_score = pd.DataFrame(speaker_score.max())\n",
    "speaker_score"
   ]
  },
  {
   "cell_type": "markdown",
   "metadata": {},
   "source": [
    "***Genel durum (Pozitif-Negatif-Notr) ;***"
   ]
  },
  {
   "cell_type": "code",
   "execution_count": 28,
   "metadata": {},
   "outputs": [],
   "source": [
    "def pos_neg_notr():\n",
    "    pos_val = 0\n",
    "    neg_val = 0\n",
    "    notr_val = 0\n",
    "    \n",
    "    for sent in data['sentiment']:\n",
    "        if sent =='positive':\n",
    "            pos_val += 1\n",
    "            #print(pos_val)\n",
    "        elif sent =='negative':\n",
    "            neg_val += 1\n",
    "            #print(neg_val)\n",
    "        else:\n",
    "            notr_val +1\n",
    "    count = [pos_val, neg_val, notr_val]\n",
    "    count = pd.DataFrame(list(count))\n",
    "    count.index =['pos_val', 'neg_val', 'notr_val']\n",
    "    count.columns = ['count']\n",
    "    return count"
   ]
  },
  {
   "cell_type": "code",
   "execution_count": 29,
   "metadata": {},
   "outputs": [
    {
     "data": {
      "text/html": [
       "<div>\n",
       "<style scoped>\n",
       "    .dataframe tbody tr th:only-of-type {\n",
       "        vertical-align: middle;\n",
       "    }\n",
       "\n",
       "    .dataframe tbody tr th {\n",
       "        vertical-align: top;\n",
       "    }\n",
       "\n",
       "    .dataframe thead th {\n",
       "        text-align: right;\n",
       "    }\n",
       "</style>\n",
       "<table border=\"1\" class=\"dataframe\">\n",
       "  <thead>\n",
       "    <tr style=\"text-align: right;\">\n",
       "      <th></th>\n",
       "      <th>count</th>\n",
       "    </tr>\n",
       "  </thead>\n",
       "  <tbody>\n",
       "    <tr>\n",
       "      <th>pos_val</th>\n",
       "      <td>3</td>\n",
       "    </tr>\n",
       "    <tr>\n",
       "      <th>neg_val</th>\n",
       "      <td>3</td>\n",
       "    </tr>\n",
       "    <tr>\n",
       "      <th>notr_val</th>\n",
       "      <td>0</td>\n",
       "    </tr>\n",
       "  </tbody>\n",
       "</table>\n",
       "</div>"
      ],
      "text/plain": [
       "          count\n",
       "pos_val       3\n",
       "neg_val       3\n",
       "notr_val      0"
      ]
     },
     "execution_count": 29,
     "metadata": {},
     "output_type": "execute_result"
    }
   ],
   "source": [
    "pos_neg_notr = pos_neg_notr()\n",
    "pos_neg_notr"
   ]
  },
  {
   "cell_type": "code",
   "execution_count": 34,
   "metadata": {},
   "outputs": [
    {
     "data": {
      "text/html": [
       "<div>\n",
       "<style scoped>\n",
       "    .dataframe tbody tr th:only-of-type {\n",
       "        vertical-align: middle;\n",
       "    }\n",
       "\n",
       "    .dataframe tbody tr th {\n",
       "        vertical-align: top;\n",
       "    }\n",
       "\n",
       "    .dataframe thead th {\n",
       "        text-align: right;\n",
       "    }\n",
       "</style>\n",
       "<table border=\"1\" class=\"dataframe\">\n",
       "  <thead>\n",
       "    <tr style=\"text-align: right;\">\n",
       "      <th></th>\n",
       "      <th>speaker</th>\n",
       "      <th>start_time</th>\n",
       "      <th>end_time</th>\n",
       "      <th>comment</th>\n",
       "    </tr>\n",
       "  </thead>\n",
       "  <tbody>\n",
       "    <tr>\n",
       "      <th>0</th>\n",
       "      <td>spk_0</td>\n",
       "      <td>00:00:04</td>\n",
       "      <td>00:00:14</td>\n",
       "      <td>Biz yine bu konuda, iş sonuçlarıyla ilgili han...</td>\n",
       "    </tr>\n",
       "    <tr>\n",
       "      <th>1</th>\n",
       "      <td>spk_1</td>\n",
       "      <td>00:00:20</td>\n",
       "      <td>00:01:46</td>\n",
       "      <td>üretkenlik içinde şunu söyleyebilirim başlığı ...</td>\n",
       "    </tr>\n",
       "    <tr>\n",
       "      <th>2</th>\n",
       "      <td>spk_2</td>\n",
       "      <td>00:01:46</td>\n",
       "      <td>00:01:46</td>\n",
       "      <td>dakika da olsa</td>\n",
       "    </tr>\n",
       "    <tr>\n",
       "      <th>3</th>\n",
       "      <td>spk_1</td>\n",
       "      <td>00:01:46</td>\n",
       "      <td>00:02:19</td>\n",
       "      <td>sohbet etmek istiyor. Yirmi kişi bunu yapsa kı...</td>\n",
       "    </tr>\n",
       "    <tr>\n",
       "      <th>4</th>\n",
       "      <td>spk_2</td>\n",
       "      <td>00:02:19</td>\n",
       "      <td>00:02:59</td>\n",
       "      <td>ben Üretkenlikte Meclisi veya pozitif çok cidd...</td>\n",
       "    </tr>\n",
       "    <tr>\n",
       "      <th>5</th>\n",
       "      <td>spk_0</td>\n",
       "      <td>00:03:02</td>\n",
       "      <td>00:03:09</td>\n",
       "      <td>Peki ee daha yine en doğru ee bilgi aldığımız ...</td>\n",
       "    </tr>\n",
       "  </tbody>\n",
       "</table>\n",
       "</div>"
      ],
      "text/plain": [
       "  speaker start_time  end_time  \\\n",
       "0   spk_0   00:00:04  00:00:14   \n",
       "1   spk_1   00:00:20  00:01:46   \n",
       "2   spk_2   00:01:46  00:01:46   \n",
       "3   spk_1   00:01:46  00:02:19   \n",
       "4   spk_2   00:02:19  00:02:59   \n",
       "5   spk_0   00:03:02  00:03:09   \n",
       "\n",
       "                                             comment  \n",
       "0  Biz yine bu konuda, iş sonuçlarıyla ilgili han...  \n",
       "1  üretkenlik içinde şunu söyleyebilirim başlığı ...  \n",
       "2                                     dakika da olsa  \n",
       "3  sohbet etmek istiyor. Yirmi kişi bunu yapsa kı...  \n",
       "4  ben Üretkenlikte Meclisi veya pozitif çok cidd...  \n",
       "5  Peki ee daha yine en doğru ee bilgi aldığımız ...  "
      ]
     },
     "execution_count": 34,
     "metadata": {},
     "output_type": "execute_result"
    }
   ],
   "source": [
    "data"
   ]
  },
  {
   "cell_type": "code",
   "execution_count": 43,
   "metadata": {},
   "outputs": [
    {
     "data": {
      "text/plain": [
       "['Biz yine bu konuda, iş sonuçlarıyla ilgili hani bu rakamlar neler ifade ediyor',\n",
       " ' Yine sahaya sorduk ve Ee sahadan dinleyeceğiz. Biraz daha']"
      ]
     },
     "execution_count": 43,
     "metadata": {},
     "output_type": "execute_result"
    }
   ],
   "source": [
    "a = data['comment'][0].split(\"?\")\n",
    "a"
   ]
  },
  {
   "cell_type": "code",
   "execution_count": null,
   "metadata": {},
   "outputs": [],
   "source": []
  }
 ],
 "metadata": {
  "kernelspec": {
   "display_name": "Python 3",
   "language": "python",
   "name": "python3"
  },
  "language_info": {
   "codemirror_mode": {
    "name": "ipython",
    "version": 3
   },
   "file_extension": ".py",
   "mimetype": "text/x-python",
   "name": "python",
   "nbconvert_exporter": "python",
   "pygments_lexer": "ipython3",
   "version": "3.8.3"
  }
 },
 "nbformat": 4,
 "nbformat_minor": 4
}
